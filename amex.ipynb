{
  "cells": [
    {
      "cell_type": "markdown",
      "metadata": {
        "id": "TT_9PrXAaCAF"
      },
      "source": [
        "# 0. Load Dataset (feather)"
      ]
    },
    {
      "cell_type": "code",
      "execution_count": 2,
      "metadata": {
        "colab": {
          "base_uri": "https://localhost:8080/",
          "height": 252,
          "resources": {
            "http://localhost:8080/nbextensions/google.colab/files.js": {
              "data": "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",
              "headers": [
                [
                  "content-type",
                  "application/javascript"
                ]
              ],
              "ok": true,
              "status": 200,
              "status_text": ""
            }
          }
        },
        "id": "wtHrDg5LZvWy",
        "outputId": "03f8e826-473c-43e9-af64-810a3f444fc0"
      },
      "outputs": [
        {
          "data": {
            "text/html": [
              "\n",
              "     <input type=\"file\" id=\"files-36895504-dc69-4f3c-b71a-e84ea7cc2005\" name=\"files[]\" multiple disabled\n",
              "        style=\"border:none\" />\n",
              "     <output id=\"result-36895504-dc69-4f3c-b71a-e84ea7cc2005\">\n",
              "      Upload widget is only available when the cell has been executed in the\n",
              "      current browser session. Please rerun this cell to enable.\n",
              "      </output>\n",
              "      <script src=\"/nbextensions/google.colab/files.js\"></script> "
            ],
            "text/plain": [
              "<IPython.core.display.HTML object>"
            ]
          },
          "metadata": {},
          "output_type": "display_data"
        },
        {
          "name": "stdout",
          "output_type": "stream",
          "text": [
            "Saving kaggle.json to kaggle.json\n",
            "Downloading train_labels.csv.zip to /content\n",
            " 56% 9.00M/16.2M [00:00<00:00, 28.4MB/s]\n",
            "100% 16.2M/16.2M [00:00<00:00, 48.3MB/s]\n",
            "Downloading sample_submission.csv.zip to /content\n",
            " 31% 10.0M/32.4M [00:00<00:00, 104MB/s]\n",
            "100% 32.4M/32.4M [00:00<00:00, 205MB/s]\n",
            "Downloading amexfeather.zip to /content\n",
            "100% 12.6G/12.7G [01:18<00:00, 270MB/s]\n",
            "100% 12.7G/12.7G [01:18<00:00, 172MB/s]\n"
          ]
        }
      ],
      "source": [
        "# # !pip install kaggle\n",
        "from google.colab import files\n",
        "files.upload()\n",
        "\n",
        "!mkdir -p ~/.kaggle//\n",
        "!cp kaggle.json ~/.kaggle/\n",
        "# Permission Warning이 발생하지 않도록 해줍니다.\n",
        "!chmod 600 ~/.kaggle/kaggle.json\n",
        "\n",
        "!kaggle competitions download amex-default-prediction -f train_labels.csv\n",
        "!kaggle competitions download amex-default-prediction -f sample_submission.csv\n",
        "\n",
        "!kaggle datasets download -d munumbutt/amexfeather\n",
        "\n",
        "from zipfile import ZipFile\n",
        "\n",
        "with ZipFile('./sample_submission.csv.zip') as zipper:\n",
        "  zipper.extractall(path='./input/amex-default-prediction/')\n",
        "with ZipFile('./train_labels.csv.zip') as zipper:\n",
        "  zipper.extractall(path='./input/amex-default-prediction/')\n",
        "with ZipFile('./amexfeather.zip') as zipper:\n",
        "  zipper.extractall(path='./input/amex-default-prediction/')"
      ]
    },
    {
      "cell_type": "markdown",
      "metadata": {
        "id": "FVjWOHX-b4d0"
      },
      "source": [
        "# 1. Import libraries"
      ]
    },
    {
      "cell_type": "code",
      "execution_count": 1,
      "metadata": {
        "colab": {
          "base_uri": "https://localhost:8080/"
        },
        "id": "olm8w5CNaHBK",
        "outputId": "e3ce7fec-d80f-4a16-8d62-0c11deb57e14"
      },
      "outputs": [
        {
          "name": "stdout",
          "output_type": "stream",
          "text": [
            "Looking in indexes: https://pypi.org/simple, https://us-python.pkg.dev/colab-wheels/public/simple/\n",
            "Requirement already satisfied: colorama in /usr/local/lib/python3.7/dist-packages (0.4.4)\n",
            "Looking in indexes: https://pypi.org/simple, https://us-python.pkg.dev/colab-wheels/public/simple/\n",
            "Requirement already satisfied: lightgbm==3.3.2 in /usr/local/lib/python3.7/dist-packages (3.3.2)\n",
            "Requirement already satisfied: scikit-learn!=0.22.0 in /usr/local/lib/python3.7/dist-packages (from lightgbm==3.3.2) (1.0.2)\n",
            "Requirement already satisfied: scipy in /usr/local/lib/python3.7/dist-packages (from lightgbm==3.3.2) (1.4.1)\n",
            "Requirement already satisfied: numpy in /usr/local/lib/python3.7/dist-packages (from lightgbm==3.3.2) (1.21.6)\n",
            "Requirement already satisfied: wheel in /usr/local/lib/python3.7/dist-packages (from lightgbm==3.3.2) (0.37.1)\n",
            "Requirement already satisfied: joblib>=0.11 in /usr/local/lib/python3.7/dist-packages (from scikit-learn!=0.22.0->lightgbm==3.3.2) (1.1.0)\n",
            "Requirement already satisfied: threadpoolctl>=2.0.0 in /usr/local/lib/python3.7/dist-packages (from scikit-learn!=0.22.0->lightgbm==3.3.2) (3.1.0)\n"
          ]
        }
      ],
      "source": [
        "import numpy as np\n",
        "import pandas as pd\n",
        "import matplotlib.pyplot as plt\n",
        "from matplotlib.colors import ListedColormap\n",
        "import seaborn as sns\n",
        "from cycler import cycler\n",
        "from IPython.display import display\n",
        "import datetime\n",
        "import scipy.stats\n",
        "import warnings\n",
        "! pip install colorama\n",
        "from colorama import Fore, Back, Style\n",
        "import gc\n",
        "\n",
        "from sklearn.model_selection import StratifiedKFold\n",
        "from sklearn.calibration import CalibrationDisplay\n",
        "! pip install lightgbm==3.3.2\n",
        "from lightgbm import LGBMClassifier, log_evaluation\n",
        "\n",
        "INFERENCE = True # set to False if you only want to cross-validate"
      ]
    },
    {
      "cell_type": "markdown",
      "metadata": {
        "id": "wDqt7xknb_LO"
      },
      "source": [
        "# 2. Evaluation metric"
      ]
    },
    {
      "cell_type": "code",
      "execution_count": 2,
      "metadata": {
        "id": "ZUbDUhEAb71u"
      },
      "outputs": [],
      "source": [
        "def amex_metric(y_true, y_pred, return_components=False) -> float:\n",
        "  \"\"\"Amex metric for ndarrays\"\"\"\n",
        "  def top_four_percent_captured(df) -> float:\n",
        "    \"\"\"Correspond to the recall for a threshold of 4 %\"\"\"\n",
        "    df['weight'] = df['target'].apply(lambda x: 20 if x==0 else 1)\n",
        "    four_pct_cutoff = int(.04 * df['weight'].sum())\n",
        "    df['weight_cumsum'] = df['weight'].cumsum()\n",
        "    df_cutoff = df.loc[df['weight_cumsum'] <= four_pct_cutoff]\n",
        "    return (df_cutoff['target']==1).sum() / (df['target']==1).sum()\n",
        "\n",
        "  def weighted_gini(df) -> float:\n",
        "    df['weight'] = df['target'].apply(lambda x: 20 if x==0 else 1)\n",
        "    df['random'] = (df['weight'] / df['weight'].sum()).cumsum()\n",
        "    total_pos = (df['target'] * df['weight']).sum()\n",
        "    df['cum_pos_found'] = (df['target'] * df['weight']).cumsum()\n",
        "    df['lorentz'] = df['cum_pos_found'] / total_pos\n",
        "    df['gini'] = (df['lorentz'] - df['random']) * df['weight']\n",
        "    return df['gini'].sum()\n",
        "\n",
        "  def normalized_weighted_gini(df) -> float:\n",
        "    \"\"\"Corresponds to 2 * AUC - 1\"\"\"\n",
        "    df2 = pd.DataFrame({'target': df.target, 'prediction': df.target})\n",
        "    df2.sort_values('prediction', ascending=False, inplace=True)\n",
        "    return weighted_gini(df) / weighted_gini(df2)\n",
        "  \n",
        "  df = pd.DataFrame({'target': y_true.ravel(),\n",
        "                     'prediction': y_pred.ravel()})\n",
        "  df.sort_values('prediction', ascending=False, inplace=True)\n",
        "  g = normalized_weighted_gini(df)\n",
        "  d = top_four_percent_captured(df)\n",
        "\n",
        "  if return_components: return g, d, .5 * (g + d)\n",
        "  return .5 * (g + d)\n",
        "\n",
        "def lgb_amex_metric(y_true, y_pred):\n",
        "  \"\"\"The competition metric with lightgbm's calling convention\"\"\"\n",
        "  return ('amex',\n",
        "          amex_metric(y_true, y_pred),\n",
        "          True)"
      ]
    },
    {
      "cell_type": "markdown",
      "metadata": {
        "id": "EoMT2bS9cFtw"
      },
      "source": [
        "# 2. Reading and Preprocessing the data"
      ]
    },
    {
      "cell_type": "code",
      "execution_count": 81,
      "metadata": {
        "colab": {
          "base_uri": "https://localhost:8080/"
        },
        "id": "TNSM9uUCcCnW",
        "outputId": "cefc25c2-420e-4130-a66e-ca2bf54b18f4"
      },
      "outputs": [
        {
          "name": "stdout",
          "output_type": "stream",
          "text": [
            "Read test\n",
            "Computed avg test\n"
          ]
        },
        {
          "name": "stderr",
          "output_type": "stream",
          "text": [
            "/usr/local/lib/python3.7/dist-packages/ipykernel_launcher.py:63: FutureWarning: Dropping invalid columns in DataFrameGroupBy.max is deprecated. In a future version, a TypeError will be raised. Before calling .max, select only columns which should be valid for the function.\n"
          ]
        },
        {
          "name": "stdout",
          "output_type": "stream",
          "text": [
            "Computed max test\n",
            "Computed last test\n",
            "test shape: (924621, 287)\n",
            "Read train\n",
            "Computed avg train\n",
            "Computed max train\n",
            "Computed last train\n",
            "train shape: (458913, 287)\n",
            "target shape: (458913,)\n"
          ]
        }
      ],
      "source": [
        "#%%time\n",
        "features_avg = ['B_1', 'B_11', 'B_16', 'B_17', 'B_18', 'B_2', 'B_20',\n",
        "                'B_28', 'B_3', 'B_4', 'B_5', 'B_7', 'B_9', 'D_112',\n",
        "                'D_121', 'D_141', 'D_39', 'D_41', 'D_42', 'D_43',\n",
        "                'D_44', 'D_45', 'D_46', 'D_47', 'D_48', 'D_49', \n",
        "                'D_50', 'D_51', 'D_53', 'D_54', 'D_56', 'D_58', \n",
        "                'D_59', 'D_60', 'D_91', 'P_2', 'P_3', 'R_1', 'R_2', \n",
        "                'R_27', 'R_3', 'R_7', 'S_11', 'S_26', 'S_3', 'S_5']\n",
        "features_max = ['B_1', 'B_11', 'B_13', 'B_15', 'B_16', 'B_17', 'B_18', 'B_19', 'B_2', \n",
        "                'B_22', 'B_24', 'B_27', 'B_28', 'B_29', 'B_3', 'B_31', 'B_33', 'B_36', \n",
        "                'B_4', 'B_42', 'B_5', 'B_7', 'B_9', 'D_102', 'D_103', 'D_105', 'D_109', \n",
        "                'D_110', 'D_112', 'D_113', 'D_115', 'D_121', 'D_124', 'D_128', 'D_129', \n",
        "                'D_131', 'D_139', 'D_141', 'D_144', 'D_145', 'D_39', 'D_41', 'D_42', \n",
        "                'D_43', 'D_44', 'D_45', 'D_46', 'D_47', 'D_48', 'D_50', 'D_51', 'D_52', \n",
        "                'D_53', 'D_56', 'D_58', 'D_59', 'D_60', 'D_62', 'D_70', 'D_72', 'D_74', \n",
        "                'D_75', 'D_79', 'D_81', 'D_83', 'D_84', 'D_88', 'D_89', 'P_2', 'P_3', \n",
        "                'R_1', 'R_10', 'R_11', 'R_26', 'R_28', 'R_3', 'R_4', 'R_5', 'R_7', 'R_8', \n",
        "                'S_11', 'S_12', 'S_23', 'S_25', 'S_26', 'S_27', 'S_3', 'S_5', 'S_7', 'S_8', ]\n",
        "features_last = ['B_1', 'B_10', 'B_11', 'B_12', 'B_13', 'B_15', 'B_16',\n",
        "                 'B_17', 'B_18', 'B_19', 'B_2', 'B_20', 'B_22', 'B_23',\n",
        "                 'B_24', 'B_25', 'B_26', 'B_27', 'B_28', 'B_29', 'B_3',\n",
        "                 'B_32', 'B_33', 'B_36', 'B_38', 'B_39', 'B_4', 'B_40',\n",
        "                 'B_41', 'B_42', 'B_5', 'B_6', 'B_7', 'B_8', 'B_9',\n",
        "                 'D_102', 'D_103', 'D_105', 'D_106', 'D_107', 'D_109',\n",
        "                 'D_112', 'D_115', 'D_117', 'D_118', 'D_119', 'D_120',\n",
        "                 'D_121', 'D_122', 'D_123', 'D_124', 'D_125', 'D_127', \n",
        "                 'D_129', 'D_132', 'D_133', 'D_135', 'D_136', 'D_137', \n",
        "                 'D_140', 'D_141', 'D_143', 'D_145', 'D_39', 'D_41',\n",
        "                 'D_42', 'D_43', 'D_44', 'D_45', 'D_46', 'D_47', 'D_48',\n",
        "                 'D_49', 'D_50', 'D_51', 'D_52', 'D_53', 'D_54', 'D_55',\n",
        "                 'D_56', 'D_58', 'D_59', 'D_60', 'D_61', 'D_62', 'D_63',\n",
        "                 'D_64', 'D_66', 'D_70', 'D_72', 'D_73', 'D_74', 'D_75',\n",
        "                 'D_76', 'D_77', 'D_78', 'D_79', 'D_80', 'D_82', 'D_83',\n",
        "                 'D_84', 'D_86', 'D_91', 'D_92', 'D_93', 'D_94', 'D_96',\n",
        "                 'P_2', 'P_3', 'R_1', 'R_10', 'R_11', 'R_12', 'R_13',\n",
        "                 'R_14', 'R_15', 'R_17', 'R_18', 'R_19', 'R_2', 'R_20', \n",
        "                 'R_21', 'R_22', 'R_24', 'R_25', 'R_26', 'R_27', 'R_3',\n",
        "                 'R_4', 'R_5', 'R_7', 'R_8', 'R_9', 'S_11', 'S_12',\n",
        "                 'S_13', 'S_15', 'S_17', 'S_20', 'S_22', 'S_23', \n",
        "                 'S_24', 'S_25', 'S_26', 'S_27', 'S_3', 'S_5', 'S_6',\n",
        "                 'S_7', 'S_8', 'S_9']\n",
        "\n",
        "NROWS=50000\n",
        "DATA_DIRECTORY = '/content/input/amex-default-prediction/'\n",
        "\n",
        "for i in ['test', 'train'] if INFERENCE else ['train']:\n",
        "    df = pd.read_feather(f'{DATA_DIRECTORY + i}_data.ftr')\n",
        "    cid = pd.Categorical(df.pop('customer_ID'), ordered=True)\n",
        "    last = (cid != np.roll(cid, -1)) # mask for last statement of every customer\n",
        "    if i == 'train':\n",
        "        target = df.loc[last, 'target']\n",
        "        df.drop(columns=['target'], inplace=True)\n",
        "    gc.collect()\n",
        "    print('Read', i)\n",
        "    df_avg = (df\n",
        "              .groupby(cid)\n",
        "              .mean()[features_avg]\n",
        "              .rename(columns={f: f\"{f}_avg\" for f in features_avg})\n",
        "             )\n",
        "    gc.collect()\n",
        "    print('Computed avg', i)\n",
        "    df_max = (df\n",
        "              .groupby(cid)\n",
        "              .max()[features_max]\n",
        "              .rename(columns={f: f\"{f}_max\" for f in features_max})\n",
        "             )\n",
        "    gc.collect()\n",
        "    print('Computed max', i)\n",
        "    df = (df.loc[last, features_last]\n",
        "          .rename(columns={f: f\"{f}_last\" for f in features_last})\n",
        "          .set_index(np.asarray(cid[last]))\n",
        "         )\n",
        "    gc.collect()\n",
        "    print('Computed last', i)\n",
        "    df = pd.concat([df, df_max, df_avg], axis=1)\n",
        "    if i == 'train': train = df\n",
        "    else: test = df\n",
        "    print(f\"{i} shape: {df.shape}\")\n",
        "    del df, df_avg, df_max, cid, last\n",
        "\n",
        "#print('Shapes:', train.shape, target.shape)\n",
        "print(f\"target shape: {target.shape}\")"
      ]
    },
    {
      "cell_type": "markdown",
      "metadata": {
        "id": "al6DarLesrQU"
      },
      "source": [
        "# 4. Modeling wiht LGBM"
      ]
    },
    {
      "cell_type": "markdown",
      "metadata": {
        "id": "noRtRRPtvHw2"
      },
      "source": [
        "## 4.2 LGBM"
      ]
    },
    {
      "cell_type": "code",
      "execution_count": 85,
      "metadata": {
        "colab": {
          "base_uri": "https://localhost:8080/"
        },
        "id": "_8Kzbc75tFAi",
        "outputId": "ee911c20-5596-46da-ac6b-8e9c1b5c7671"
      },
      "outputs": [
        {
          "name": "stdout",
          "output_type": "stream",
          "text": [
            "287 features\n",
            "[100]\ttraining's binary_logloss: 0.252983\ttraining's amex: 0.774016\tvalid_1's binary_logloss: 0.257003\tvalid_1's amex: 0.766785\n",
            "[200]\ttraining's binary_logloss: 0.230444\ttraining's amex: 0.798563\tvalid_1's binary_logloss: 0.239782\tvalid_1's amex: 0.782348\n",
            "[300]\ttraining's binary_logloss: 0.218617\ttraining's amex: 0.812534\tvalid_1's binary_logloss: 0.234403\tvalid_1's amex: 0.788167\n",
            "[400]\ttraining's binary_logloss: 0.209668\ttraining's amex: 0.824121\tvalid_1's binary_logloss: 0.231912\tvalid_1's amex: 0.791663\n",
            "[500]\ttraining's binary_logloss: 0.201802\ttraining's amex: 0.834206\tvalid_1's binary_logloss: 0.230436\tvalid_1's amex: 0.792142\n",
            "[600]\ttraining's binary_logloss: 0.194581\ttraining's amex: 0.844039\tvalid_1's binary_logloss: 0.229405\tvalid_1's amex: 0.793119\n",
            "[700]\ttraining's binary_logloss: 0.187843\ttraining's amex: 0.853941\tvalid_1's binary_logloss: 0.228551\tvalid_1's amex: 0.793944\n",
            "[800]\ttraining's binary_logloss: 0.181497\ttraining's amex: 0.863502\tvalid_1's binary_logloss: 0.22783\tvalid_1's amex: 0.793345\n",
            "[900]\ttraining's binary_logloss: 0.175415\ttraining's amex: 0.872739\tvalid_1's binary_logloss: 0.227258\tvalid_1's amex: 0.794372\n",
            "[1000]\ttraining's binary_logloss: 0.16963\ttraining's amex: 0.882249\tvalid_1's binary_logloss: 0.226756\tvalid_1's amex: 0.794062\n",
            "[1100]\ttraining's binary_logloss: 0.164096\ttraining's amex: 0.890889\tvalid_1's binary_logloss: 0.226287\tvalid_1's amex: 0.793936\n",
            "[1200]\ttraining's binary_logloss: 0.158811\ttraining's amex: 0.899981\tvalid_1's binary_logloss: 0.225884\tvalid_1's amex: 0.794874\n",
            "\u001b[32m\u001b[1mFold 0\n",
            "21:01\n",
            " 1200 trees\n",
            "Score = 0.79487\u001b[0m\n",
            "[100]\ttraining's binary_logloss: 0.25253\ttraining's amex: 0.773526\tvalid_1's binary_logloss: 0.25757\tvalid_1's amex: 0.7666\n",
            "[200]\ttraining's binary_logloss: 0.230067\ttraining's amex: 0.79808\tvalid_1's binary_logloss: 0.241297\tvalid_1's amex: 0.784619\n",
            "[300]\ttraining's binary_logloss: 0.218252\ttraining's amex: 0.812724\tvalid_1's binary_logloss: 0.236089\tvalid_1's amex: 0.789597\n",
            "[400]\ttraining's binary_logloss: 0.209313\ttraining's amex: 0.823923\tvalid_1's binary_logloss: 0.233544\tvalid_1's amex: 0.791626\n",
            "[500]\ttraining's binary_logloss: 0.201431\ttraining's amex: 0.834243\tvalid_1's binary_logloss: 0.232236\tvalid_1's amex: 0.793307\n",
            "[600]\ttraining's binary_logloss: 0.194166\ttraining's amex: 0.844344\tvalid_1's binary_logloss: 0.231219\tvalid_1's amex: 0.792736\n",
            "[700]\ttraining's binary_logloss: 0.187371\ttraining's amex: 0.854607\tvalid_1's binary_logloss: 0.230412\tvalid_1's amex: 0.793232\n",
            "[800]\ttraining's binary_logloss: 0.180999\ttraining's amex: 0.863861\tvalid_1's binary_logloss: 0.2298\tvalid_1's amex: 0.7937\n",
            "[900]\ttraining's binary_logloss: 0.174941\ttraining's amex: 0.873189\tvalid_1's binary_logloss: 0.229261\tvalid_1's amex: 0.79327\n",
            "[1000]\ttraining's binary_logloss: 0.169129\ttraining's amex: 0.882657\tvalid_1's binary_logloss: 0.228782\tvalid_1's amex: 0.79255\n",
            "[1100]\ttraining's binary_logloss: 0.163587\ttraining's amex: 0.891288\tvalid_1's binary_logloss: 0.228298\tvalid_1's amex: 0.792703\n",
            "[1200]\ttraining's binary_logloss: 0.158264\ttraining's amex: 0.900474\tvalid_1's binary_logloss: 0.227924\tvalid_1's amex: 0.793449\n",
            "\u001b[32m\u001b[1mFold 1\n",
            "21:07\n",
            " 1200 trees\n",
            "Score = 0.79345\u001b[0m\n",
            "[100]\ttraining's binary_logloss: 0.252926\ttraining's amex: 0.774174\tvalid_1's binary_logloss: 0.255588\tvalid_1's amex: 0.767564\n",
            "[200]\ttraining's binary_logloss: 0.230446\ttraining's amex: 0.798692\tvalid_1's binary_logloss: 0.239896\tvalid_1's amex: 0.783545\n",
            "[300]\ttraining's binary_logloss: 0.218627\ttraining's amex: 0.812212\tvalid_1's binary_logloss: 0.234768\tvalid_1's amex: 0.788978\n",
            "[400]\ttraining's binary_logloss: 0.209629\ttraining's amex: 0.823929\tvalid_1's binary_logloss: 0.232283\tvalid_1's amex: 0.791123\n",
            "[500]\ttraining's binary_logloss: 0.201777\ttraining's amex: 0.834374\tvalid_1's binary_logloss: 0.230971\tvalid_1's amex: 0.792649\n",
            "[600]\ttraining's binary_logloss: 0.194461\ttraining's amex: 0.844465\tvalid_1's binary_logloss: 0.230059\tvalid_1's amex: 0.792758\n",
            "[700]\ttraining's binary_logloss: 0.18768\ttraining's amex: 0.854135\tvalid_1's binary_logloss: 0.229294\tvalid_1's amex: 0.791954\n",
            "[800]\ttraining's binary_logloss: 0.181224\ttraining's amex: 0.863729\tvalid_1's binary_logloss: 0.228677\tvalid_1's amex: 0.792802\n",
            "[900]\ttraining's binary_logloss: 0.175144\ttraining's amex: 0.872997\tvalid_1's binary_logloss: 0.228178\tvalid_1's amex: 0.793494\n",
            "[1000]\ttraining's binary_logloss: 0.169312\ttraining's amex: 0.881786\tvalid_1's binary_logloss: 0.227593\tvalid_1's amex: 0.793306\n",
            "[1100]\ttraining's binary_logloss: 0.163787\ttraining's amex: 0.89103\tvalid_1's binary_logloss: 0.227149\tvalid_1's amex: 0.793306\n",
            "[1200]\ttraining's binary_logloss: 0.158439\ttraining's amex: 0.900004\tvalid_1's binary_logloss: 0.226703\tvalid_1's amex: 0.793527\n",
            "\u001b[32m\u001b[1mFold 2\n",
            "21:26\n",
            " 1200 trees\n",
            "Score = 0.79353\u001b[0m\n",
            "[100]\ttraining's binary_logloss: 0.251829\ttraining's amex: 0.776153\tvalid_1's binary_logloss: 0.259281\tvalid_1's amex: 0.755514\n",
            "[200]\ttraining's binary_logloss: 0.229146\ttraining's amex: 0.800103\tvalid_1's binary_logloss: 0.24402\tvalid_1's amex: 0.772489\n",
            "[300]\ttraining's binary_logloss: 0.217225\ttraining's amex: 0.81469\tvalid_1's binary_logloss: 0.239155\tvalid_1's amex: 0.777417\n",
            "[400]\ttraining's binary_logloss: 0.208256\ttraining's amex: 0.826048\tvalid_1's binary_logloss: 0.23689\tvalid_1's amex: 0.780269\n",
            "[500]\ttraining's binary_logloss: 0.200334\ttraining's amex: 0.836272\tvalid_1's binary_logloss: 0.235529\tvalid_1's amex: 0.782608\n",
            "[600]\ttraining's binary_logloss: 0.193072\ttraining's amex: 0.846291\tvalid_1's binary_logloss: 0.234641\tvalid_1's amex: 0.783225\n",
            "[700]\ttraining's binary_logloss: 0.18629\ttraining's amex: 0.856098\tvalid_1's binary_logloss: 0.233846\tvalid_1's amex: 0.784202\n",
            "[800]\ttraining's binary_logloss: 0.179847\ttraining's amex: 0.865522\tvalid_1's binary_logloss: 0.233276\tvalid_1's amex: 0.784146\n",
            "[900]\ttraining's binary_logloss: 0.173738\ttraining's amex: 0.874975\tvalid_1's binary_logloss: 0.232751\tvalid_1's amex: 0.784459\n",
            "[1000]\ttraining's binary_logloss: 0.167893\ttraining's amex: 0.884261\tvalid_1's binary_logloss: 0.232324\tvalid_1's amex: 0.783795\n",
            "[1100]\ttraining's binary_logloss: 0.162368\ttraining's amex: 0.893016\tvalid_1's binary_logloss: 0.231907\tvalid_1's amex: 0.78495\n",
            "[1200]\ttraining's binary_logloss: 0.157096\ttraining's amex: 0.901996\tvalid_1's binary_logloss: 0.231626\tvalid_1's amex: 0.784593\n",
            "\u001b[32m\u001b[1mFold 3\n",
            "21:17\n",
            " 1200 trees\n",
            "Score = 0.78459\u001b[0m\n",
            "[100]\ttraining's binary_logloss: 0.252115\ttraining's amex: 0.773954\tvalid_1's binary_logloss: 0.258711\tvalid_1's amex: 0.763474\n",
            "[200]\ttraining's binary_logloss: 0.229506\ttraining's amex: 0.798627\tvalid_1's binary_logloss: 0.24286\tvalid_1's amex: 0.779345\n",
            "[300]\ttraining's binary_logloss: 0.217612\ttraining's amex: 0.813516\tvalid_1's binary_logloss: 0.237831\tvalid_1's amex: 0.785995\n",
            "[400]\ttraining's binary_logloss: 0.208679\ttraining's amex: 0.824519\tvalid_1's binary_logloss: 0.23529\tvalid_1's amex: 0.788399\n",
            "[500]\ttraining's binary_logloss: 0.200783\ttraining's amex: 0.83475\tvalid_1's binary_logloss: 0.233866\tvalid_1's amex: 0.789191\n",
            "[600]\ttraining's binary_logloss: 0.193549\ttraining's amex: 0.844795\tvalid_1's binary_logloss: 0.232862\tvalid_1's amex: 0.7893\n",
            "[700]\ttraining's binary_logloss: 0.186806\ttraining's amex: 0.854551\tvalid_1's binary_logloss: 0.232099\tvalid_1's amex: 0.790118\n",
            "[800]\ttraining's binary_logloss: 0.180386\ttraining's amex: 0.864336\tvalid_1's binary_logloss: 0.231531\tvalid_1's amex: 0.790061\n",
            "[900]\ttraining's binary_logloss: 0.1743\ttraining's amex: 0.873655\tvalid_1's binary_logloss: 0.230941\tvalid_1's amex: 0.789824\n",
            "[1000]\ttraining's binary_logloss: 0.168489\ttraining's amex: 0.882559\tvalid_1's binary_logloss: 0.230527\tvalid_1's amex: 0.789634\n",
            "[1100]\ttraining's binary_logloss: 0.162944\ttraining's amex: 0.891838\tvalid_1's binary_logloss: 0.230132\tvalid_1's amex: 0.789311\n",
            "[1200]\ttraining's binary_logloss: 0.157652\ttraining's amex: 0.901014\tvalid_1's binary_logloss: 0.229802\tvalid_1's amex: 0.790205\n",
            "\u001b[32m\u001b[1mFold 4\n",
            "21:18\n",
            " 1200 trees\n",
            "Score = 0.79020\u001b[0m\n",
            "\u001b[32m\u001b[1mOOF Score:0.79133\u001b[0m\n"
          ]
        }
      ],
      "source": [
        "import joblib\n",
        "\n",
        "SEED = 1117\n",
        "\n",
        "features = [f for f in train.columns if f != 'customer_ID' and f != 'target']\n",
        "print(f'{len(features)} features')\n",
        "\n",
        "score_list = []\n",
        "y_pred_list = []\n",
        "kf = StratifiedKFold(n_splits=5, shuffle=True, random_state=SEED)\n",
        "\n",
        "params = {\n",
        "    'n_estimators': 1200,\n",
        "    'learning_rate': .03,\n",
        "    'reg_lambda': 50,\n",
        "    'min_child_samples': 2400,\n",
        "    'num_leaves': 95,\n",
        "    'max_bins': 511,\n",
        "    'random_state': SEED,\n",
        "    'scale_pos_weight': 2,\n",
        "    'n_jobs': -1\n",
        "}\n",
        "\n",
        "for fold, (idx_train, idx_valid) in enumerate(kf.split(train, target)):\n",
        "  start_time = datetime.datetime.now()\n",
        "\n",
        "  # 훈련/검증 셋으로 나눈다\n",
        "  X_train = train.iloc[idx_train][features]\n",
        "  X_valid = train.iloc[idx_valid][features]\n",
        "  y_train = target.iloc[idx_train]\n",
        "  y_valid = target.iloc[idx_valid]\n",
        "\n",
        "  # 하이퍼파라미터와 함께 모델 정의\n",
        "  model = LGBMClassifier(**params)\n",
        "  \n",
        "  with warnings.catch_warnings():\n",
        "    warnings.filterwarnings('ignore', category=UserWarning)\n",
        "    model.fit(X_train, y_train,\n",
        "              eval_set=[(X_train, y_train), (X_valid, y_valid)],\n",
        "              eval_metric=[lgb_amex_metric],\n",
        "              callbacks=[log_evaluation(100)])\n",
        "  \n",
        "  # 예측한 검증 데이터\n",
        "  y_valid_pred = model.predict_proba(X_valid)[:, 1]\n",
        "  score = amex_metric(y_valid.values, y_valid_pred)\n",
        "  \n",
        "  # 최적의 트리개수\n",
        "  n_trees = model.best_iteration_\n",
        "  if n_trees is None: n_trees = model.n_estimators\n",
        "\n",
        "  print(f'{Fore.GREEN}{Style.BRIGHT}Fold {fold}')\n",
        "  print(f'{str(datetime.datetime.now() - start_time)[-12:-7]}') \n",
        "  print(f'{n_trees:5} trees')\n",
        "  print(f'Score = {score:.5f}{Style.RESET_ALL}')\n",
        "\n",
        "  joblib.dump(model, filename=f'/content/drive/MyDrive/tabular/amex/model/v1_fold{fold}.pkl')\n",
        "  score_list.append(score)\n",
        "\n",
        "  if INFERENCE:\n",
        "    y_pred_list.append(model.predict_proba(test[features])[:, 1])\n",
        "  \n",
        "  end_time = datetime.datetime.now()\n",
        "\n",
        "# 최종 OOF score\n",
        "print(f'{Fore.GREEN}{Style.BRIGHT}OOF Score:{np.mean(score_list):.5f}{Style.RESET_ALL}') "
      ]
    },
    {
      "cell_type": "code",
      "execution_count": 86,
      "metadata": {
        "colab": {
          "base_uri": "https://localhost:8080/",
          "height": 424
        },
        "id": "WuuRSGsv9nAX",
        "outputId": "a2ee1552-e14b-4e9c-8ffc-024ca18a2364"
      },
      "outputs": [
        {
          "data": {
            "text/html": [
              "\n",
              "  <div id=\"df-90af5b3a-c093-4e6d-b24d-a965d3853ee6\">\n",
              "    <div class=\"colab-df-container\">\n",
              "      <div>\n",
              "<style scoped>\n",
              "    .dataframe tbody tr th:only-of-type {\n",
              "        vertical-align: middle;\n",
              "    }\n",
              "\n",
              "    .dataframe tbody tr th {\n",
              "        vertical-align: top;\n",
              "    }\n",
              "\n",
              "    .dataframe thead th {\n",
              "        text-align: right;\n",
              "    }\n",
              "</style>\n",
              "<table border=\"1\" class=\"dataframe\">\n",
              "  <thead>\n",
              "    <tr style=\"text-align: right;\">\n",
              "      <th></th>\n",
              "      <th>customer_ID</th>\n",
              "      <th>prediction</th>\n",
              "    </tr>\n",
              "  </thead>\n",
              "  <tbody>\n",
              "    <tr>\n",
              "      <th>0</th>\n",
              "      <td>00000469ba478561f23a92a868bd366de6f6527a684c9a...</td>\n",
              "      <td>0.046107</td>\n",
              "    </tr>\n",
              "    <tr>\n",
              "      <th>1</th>\n",
              "      <td>00001bf2e77ff879fab36aa4fac689b9ba411dae63ae39...</td>\n",
              "      <td>0.002477</td>\n",
              "    </tr>\n",
              "    <tr>\n",
              "      <th>2</th>\n",
              "      <td>0000210045da4f81e5f122c6bde5c2a617d03eef67f82c...</td>\n",
              "      <td>0.033112</td>\n",
              "    </tr>\n",
              "    <tr>\n",
              "      <th>3</th>\n",
              "      <td>00003b41e58ede33b8daf61ab56d9952f17c9ad1c3976c...</td>\n",
              "      <td>0.334773</td>\n",
              "    </tr>\n",
              "    <tr>\n",
              "      <th>4</th>\n",
              "      <td>00004b22eaeeeb0ec976890c1d9bfc14fd9427e98c4ee9...</td>\n",
              "      <td>0.961043</td>\n",
              "    </tr>\n",
              "    <tr>\n",
              "      <th>...</th>\n",
              "      <td>...</td>\n",
              "      <td>...</td>\n",
              "    </tr>\n",
              "    <tr>\n",
              "      <th>924616</th>\n",
              "      <td>ffff952c631f2c911b8a2a8ca56ea6e656309a83d2f64c...</td>\n",
              "      <td>0.019818</td>\n",
              "    </tr>\n",
              "    <tr>\n",
              "      <th>924617</th>\n",
              "      <td>ffffcf5df59e5e0bba2a5ac4578a34e2b5aa64a1546cd3...</td>\n",
              "      <td>0.865190</td>\n",
              "    </tr>\n",
              "    <tr>\n",
              "      <th>924618</th>\n",
              "      <td>ffffd61f098cc056dbd7d2a21380c4804bbfe60856f475...</td>\n",
              "      <td>0.583054</td>\n",
              "    </tr>\n",
              "    <tr>\n",
              "      <th>924619</th>\n",
              "      <td>ffffddef1fc3643ea179c93245b68dca0f36941cd83977...</td>\n",
              "      <td>0.487606</td>\n",
              "    </tr>\n",
              "    <tr>\n",
              "      <th>924620</th>\n",
              "      <td>fffffa7cf7e453e1acc6a1426475d5cb9400859f82ff61...</td>\n",
              "      <td>0.084998</td>\n",
              "    </tr>\n",
              "  </tbody>\n",
              "</table>\n",
              "<p>924621 rows × 2 columns</p>\n",
              "</div>\n",
              "      <button class=\"colab-df-convert\" onclick=\"convertToInteractive('df-90af5b3a-c093-4e6d-b24d-a965d3853ee6')\"\n",
              "              title=\"Convert this dataframe to an interactive table.\"\n",
              "              style=\"display:none;\">\n",
              "        \n",
              "  <svg xmlns=\"http://www.w3.org/2000/svg\" height=\"24px\"viewBox=\"0 0 24 24\"\n",
              "       width=\"24px\">\n",
              "    <path d=\"M0 0h24v24H0V0z\" fill=\"none\"/>\n",
              "    <path d=\"M18.56 5.44l.94 2.06.94-2.06 2.06-.94-2.06-.94-.94-2.06-.94 2.06-2.06.94zm-11 1L8.5 8.5l.94-2.06 2.06-.94-2.06-.94L8.5 2.5l-.94 2.06-2.06.94zm10 10l.94 2.06.94-2.06 2.06-.94-2.06-.94-.94-2.06-.94 2.06-2.06.94z\"/><path d=\"M17.41 7.96l-1.37-1.37c-.4-.4-.92-.59-1.43-.59-.52 0-1.04.2-1.43.59L10.3 9.45l-7.72 7.72c-.78.78-.78 2.05 0 2.83L4 21.41c.39.39.9.59 1.41.59.51 0 1.02-.2 1.41-.59l7.78-7.78 2.81-2.81c.8-.78.8-2.07 0-2.86zM5.41 20L4 18.59l7.72-7.72 1.47 1.35L5.41 20z\"/>\n",
              "  </svg>\n",
              "      </button>\n",
              "      \n",
              "  <style>\n",
              "    .colab-df-container {\n",
              "      display:flex;\n",
              "      flex-wrap:wrap;\n",
              "      gap: 12px;\n",
              "    }\n",
              "\n",
              "    .colab-df-convert {\n",
              "      background-color: #E8F0FE;\n",
              "      border: none;\n",
              "      border-radius: 50%;\n",
              "      cursor: pointer;\n",
              "      display: none;\n",
              "      fill: #1967D2;\n",
              "      height: 32px;\n",
              "      padding: 0 0 0 0;\n",
              "      width: 32px;\n",
              "    }\n",
              "\n",
              "    .colab-df-convert:hover {\n",
              "      background-color: #E2EBFA;\n",
              "      box-shadow: 0px 1px 2px rgba(60, 64, 67, 0.3), 0px 1px 3px 1px rgba(60, 64, 67, 0.15);\n",
              "      fill: #174EA6;\n",
              "    }\n",
              "\n",
              "    [theme=dark] .colab-df-convert {\n",
              "      background-color: #3B4455;\n",
              "      fill: #D2E3FC;\n",
              "    }\n",
              "\n",
              "    [theme=dark] .colab-df-convert:hover {\n",
              "      background-color: #434B5C;\n",
              "      box-shadow: 0px 1px 3px 1px rgba(0, 0, 0, 0.15);\n",
              "      filter: drop-shadow(0px 1px 2px rgba(0, 0, 0, 0.3));\n",
              "      fill: #FFFFFF;\n",
              "    }\n",
              "  </style>\n",
              "\n",
              "      <script>\n",
              "        const buttonEl =\n",
              "          document.querySelector('#df-90af5b3a-c093-4e6d-b24d-a965d3853ee6 button.colab-df-convert');\n",
              "        buttonEl.style.display =\n",
              "          google.colab.kernel.accessAllowed ? 'block' : 'none';\n",
              "\n",
              "        async function convertToInteractive(key) {\n",
              "          const element = document.querySelector('#df-90af5b3a-c093-4e6d-b24d-a965d3853ee6');\n",
              "          const dataTable =\n",
              "            await google.colab.kernel.invokeFunction('convertToInteractive',\n",
              "                                                     [key], {});\n",
              "          if (!dataTable) return;\n",
              "\n",
              "          const docLinkHtml = 'Like what you see? Visit the ' +\n",
              "            '<a target=\"_blank\" href=https://colab.research.google.com/notebooks/data_table.ipynb>data table notebook</a>'\n",
              "            + ' to learn more about interactive tables.';\n",
              "          element.innerHTML = '';\n",
              "          dataTable['output_type'] = 'display_data';\n",
              "          await google.colab.output.renderOutput(dataTable, element);\n",
              "          const docLink = document.createElement('div');\n",
              "          docLink.innerHTML = docLinkHtml;\n",
              "          element.appendChild(docLink);\n",
              "        }\n",
              "      </script>\n",
              "    </div>\n",
              "  </div>\n",
              "  "
            ],
            "text/plain": [
              "                                              customer_ID  prediction\n",
              "0       00000469ba478561f23a92a868bd366de6f6527a684c9a...    0.046107\n",
              "1       00001bf2e77ff879fab36aa4fac689b9ba411dae63ae39...    0.002477\n",
              "2       0000210045da4f81e5f122c6bde5c2a617d03eef67f82c...    0.033112\n",
              "3       00003b41e58ede33b8daf61ab56d9952f17c9ad1c3976c...    0.334773\n",
              "4       00004b22eaeeeb0ec976890c1d9bfc14fd9427e98c4ee9...    0.961043\n",
              "...                                                   ...         ...\n",
              "924616  ffff952c631f2c911b8a2a8ca56ea6e656309a83d2f64c...    0.019818\n",
              "924617  ffffcf5df59e5e0bba2a5ac4578a34e2b5aa64a1546cd3...    0.865190\n",
              "924618  ffffd61f098cc056dbd7d2a21380c4804bbfe60856f475...    0.583054\n",
              "924619  ffffddef1fc3643ea179c93245b68dca0f36941cd83977...    0.487606\n",
              "924620  fffffa7cf7e453e1acc6a1426475d5cb9400859f82ff61...    0.084998\n",
              "\n",
              "[924621 rows x 2 columns]"
            ]
          },
          "metadata": {},
          "output_type": "display_data"
        }
      ],
      "source": [
        "if INFERENCE:\n",
        "  sub = pd.DataFrame({'customer_ID': test.index,\n",
        "                      'prediction': np.mean(y_pred_list, axis=0)})\n",
        "  sub.to_csv('submission.csv', index=False)\n",
        "  display(sub)"
      ]
    },
    {
      "cell_type": "code",
      "execution_count": 87,
      "metadata": {
        "colab": {
          "base_uri": "https://localhost:8080/"
        },
        "id": "pgSX3UTxhyMi",
        "outputId": "c5a6d77f-65d1-4127-d978-51879e32dae9"
      },
      "outputs": [
        {
          "name": "stdout",
          "output_type": "stream",
          "text": [
            "100% 75.1M/75.1M [00:01<00:00, 75.3MB/s]\n",
            "Successfully submitted to American Express - Default Prediction"
          ]
        }
      ],
      "source": [
        "!kaggle competitions submit -c amex-default-prediction -f submission.csv -m \"submission v2\""
      ]
    }
  ],
  "metadata": {
    "colab": {
      "collapsed_sections": [],
      "machine_shape": "hm",
      "name": "amex-v1.ipynb",
      "provenance": [],
      "toc_visible": true
    },
    "kernelspec": {
      "display_name": "Python 3",
      "name": "python3"
    },
    "language_info": {
      "name": "python"
    }
  },
  "nbformat": 4,
  "nbformat_minor": 0
}
